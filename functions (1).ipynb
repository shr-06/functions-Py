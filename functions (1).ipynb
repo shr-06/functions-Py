{
  "nbformat": 4,
  "nbformat_minor": 0,
  "metadata": {
    "colab": {
      "provenance": []
    },
    "kernelspec": {
      "name": "python3",
      "display_name": "Python 3"
    },
    "language_info": {
      "name": "python"
    }
  },
  "cells": [
    {
      "cell_type": "markdown",
      "source": [
        "#Functions:\n",
        "#Theory Questions:Answers"
      ],
      "metadata": {
        "id": "LWOBRVUseb1g"
      }
    },
    {
      "cell_type": "markdown",
      "source": [
        "1. What is the difference between a function and a method in Python?\n",
        "  - In Python, the primary difference between a function and a method lies in how and where they are used:\n",
        "\n",
        "Function:\n",
        "\n",
        "- A function is a block of reusable code that performs a specific task and can be called independently.\n",
        "- It is defined using the def keyword.\n",
        "- Functions are not associated with any object or class; they can be called globally or locally."
      ],
      "metadata": {
        "id": "6bsc6Q4lbCaj"
      }
    },
    {
      "cell_type": "code",
      "source": [
        "def my_function(x, y):\n",
        "    return x + y\n",
        "\n",
        "result = my_function(2, 3)  # Calling the function"
      ],
      "metadata": {
        "id": "_pzOaK8zgdLW"
      },
      "execution_count": null,
      "outputs": []
    },
    {
      "cell_type": "markdown",
      "source": [
        "Method:\n",
        "- A method is similar to a function but is associated with an object or a class. It operates on the object or class it belongs to.\n",
        "-Methods are called using dot notation on an instance of a class or the class itself.\n",
        "- A method always takes at least one argument: self (which represents the instance of the class) or cls (which represents the class itself)."
      ],
      "metadata": {
        "id": "Rnh9xR9uglGT"
      }
    },
    {
      "cell_type": "code",
      "source": [
        "class MyClass:\n",
        "    def my_method(self, x, y):\n",
        "        return x + y\n",
        "\n",
        "obj = MyClass()\n",
        "result = obj.my_method(2, 3)  # Calling the method"
      ],
      "metadata": {
        "id": "2EXZOyHfgyB3"
      },
      "execution_count": null,
      "outputs": []
    },
    {
      "cell_type": "markdown",
      "source": [
        "- Function: Independent and not bound to any object or class.\n",
        "-Method: Associated with an object or class and often operates on data that belongs to that object or class."
      ],
      "metadata": {
        "id": "v9hjioNGg4vK"
      }
    },
    {
      "cell_type": "markdown",
      "source": [
        "2. Explain the concept of function arguments and parameters in Python.\n",
        "\n",
        "In Python, function arguments and parameters are essential components of function definitions and calls. They facilitate the exchange of data between a function and the code that calls it.\n",
        "- Parameters\n",
        "\n",
        "  - Definition: Parameters are the variables defined in a function's declaration. They act as placeholders that accept values when the function is called.\n",
        "  -Scope: Parameters exist only within the function where they are defined.\n",
        "\n",
        "\n",
        "\n"
      ],
      "metadata": {
        "id": "qI9XxjocbGyC"
      }
    },
    {
      "cell_type": "code",
      "source": [
        "#Example:\n",
        "def greet(name):  # 'name' is a parameter\n",
        "    print(f\"Hello, {name}!\")\n"
      ],
      "metadata": {
        "id": "clQsRsMyh4nP"
      },
      "execution_count": null,
      "outputs": []
    },
    {
      "cell_type": "markdown",
      "source": [
        "- Arguments\n",
        "Definition: Arguments are the actual values or data you pass to a function when calling it. These values are assigned to the corresponding parameters in the function.\n",
        "\n",
        "Types of Arguments:\n",
        "- Positional Arguments: Passed in order, matching the parameter positions.\n"
      ],
      "metadata": {
        "id": "KB7dDAxJiEQI"
      }
    },
    {
      "cell_type": "code",
      "source": [
        "greet(\"Alice\")  # \"Alice\" is the argument"
      ],
      "metadata": {
        "id": "RtSqZWkMiOHe"
      },
      "execution_count": null,
      "outputs": []
    },
    {
      "cell_type": "markdown",
      "source": [
        "- Keyword Arguments: Explicitly specify which parameter the value is for, improving clarity."
      ],
      "metadata": {
        "id": "onLmJa61iRxd"
      }
    },
    {
      "cell_type": "code",
      "source": [
        "def introduce(name, age):\n",
        "    print(f\"I'm {name} and I'm {age} years old.\")\n",
        "\n",
        "introduce(age=25, name=\"Bob\")"
      ],
      "metadata": {
        "id": "sxfMVS7PiRE8"
      },
      "execution_count": null,
      "outputs": []
    },
    {
      "cell_type": "markdown",
      "source": [
        "- Default Arguments: Parameters can have default values, making them optional."
      ],
      "metadata": {
        "id": "FRpuwljqiiZa"
      }
    },
    {
      "cell_type": "code",
      "source": [
        "def greet(name=\"Guest\"):\n",
        "    print(f\"Hello, {name}!\")\n",
        "\n",
        "greet()  # Uses default value \"Guest\"\n",
        "greet(\"Alice\")  # Overrides the default value"
      ],
      "metadata": {
        "id": "N7NcE7oDimOt"
      },
      "execution_count": null,
      "outputs": []
    },
    {
      "cell_type": "markdown",
      "source": [
        "- Variable-Length Arguments: Allow passing a varying number of arguments.\n",
        "  - *args: Captures additional positional arguments as a tuple."
      ],
      "metadata": {
        "id": "LRTWNBThi8ie"
      }
    },
    {
      "cell_type": "code",
      "source": [
        "def add_numbers(*args):\n",
        "    return sum(args)\n",
        "\n",
        "print(add_numbers(0,1,2))  # Output: 3\n"
      ],
      "metadata": {
        "colab": {
          "base_uri": "https://localhost:8080/"
        },
        "id": "uLdSQY0HjIRN",
        "outputId": "8abb9673-6049-4d3b-a934-ca5a1aedd324"
      },
      "execution_count": null,
      "outputs": [
        {
          "output_type": "stream",
          "name": "stdout",
          "text": [
            "3\n"
          ]
        }
      ]
    },
    {
      "cell_type": "markdown",
      "source": [
        "- **kwargs: Captures additional keyword arguments as a dictionary"
      ],
      "metadata": {
        "id": "xmSUDpi_je-K"
      }
    },
    {
      "cell_type": "code",
      "source": [
        "def describe_person(**kwargs):\n",
        "    for key, value in kwargs.items():\n",
        "        print(f\"{key}: {value}\")\n",
        "\n",
        "describe_person(name=\"Alice\", age=30, location=\"NYC\")"
      ],
      "metadata": {
        "id": "5qB_4N84jib6"
      },
      "execution_count": null,
      "outputs": []
    },
    {
      "cell_type": "markdown",
      "source": [
        "#Difference between Parameters and Arguments.\n",
        "In parameter:\n",
        "- Declared in Function definition.\n",
        "- Act as placeholders.\n",
        "\n",
        "In Arguments:\n",
        "- Provided in function calls.\n",
        "- provided actual data values.\n",
        "\n",
        "By combining parameters and arguments effectively. Python funtions become powerful and flexible tools for managing and processing data."
      ],
      "metadata": {
        "id": "M47QEwyBjlbn"
      }
    },
    {
      "cell_type": "markdown",
      "source": [
        "3. Implement a Python function that takes a list of integers and returns a new list containing the squares of\n",
        "each number\n",
        "  -  Here is a Python function that takes a list of integers and returns a new list containing the squares of each integer:\n",
        "\n",
        "  "
      ],
      "metadata": {
        "id": "65q5STVsbZNR"
      }
    },
    {
      "cell_type": "code",
      "source": [
        "def square_list(numbers):\n",
        "    \"\"\"\n",
        "    Takes a list of integers and returns a new list containing the squares of each integer.\n",
        "\n",
        "    :param numbers: List of integers\n",
        "    :return: List of integers squared\n",
        "    \"\"\"\n",
        "    return [num ** 2 for num in numbers]\n",
        "\n",
        "# Example usage\n",
        "input_list = [1, 2, 3, 4, 5]\n",
        "output_list = square_list(input_list)\n",
        "print(output_list)  # Output: [1, 4, 9, 16, 25]"
      ],
      "metadata": {
        "colab": {
          "base_uri": "https://localhost:8080/"
        },
        "id": "hn-zQPMcozip",
        "outputId": "cc355642-a040-4aa7-8c10-615337fee1d9"
      },
      "execution_count": null,
      "outputs": [
        {
          "output_type": "stream",
          "name": "stdout",
          "text": [
            "[1, 4, 9, 16, 25]\n"
          ]
        }
      ]
    },
    {
      "cell_type": "markdown",
      "source": [
        "Explanation\n",
        "\n",
        "- Input: The function accepts a list of integers (numbers).\n",
        "-Processing: A list comprehension iterates through each element in the input list, computes its square (num ** 2), and collects the results into a new list.\n",
        "- Output: The function returns the new list containing squared integers."
      ],
      "metadata": {
        "id": "9KGTiEMKo7LE"
      }
    },
    {
      "cell_type": "markdown",
      "source": [
        "4. What is the purpose of the `return` statement in a Python function?\n",
        "\n",
        "The return statement in a Python function serves the purpose of sending a value back to the caller of the function. It terminates the execution of the function and specifies the value that will be provided as the result of the function.\n",
        "\n",
        "- Key Points about return:\n",
        "1.Returns a Value:\n",
        "\n",
        "When a function includes a return statement, the value following return is passed back to the caller.\n"
      ],
      "metadata": {
        "id": "4avKS8QMbaXO"
      }
    },
    {
      "cell_type": "code",
      "source": [
        "#example:\n",
        "def add(a, b):\n",
        "    return a + b\n",
        "result = add(2, 3)\n",
        "print(result)  # Output: 5"
      ],
      "metadata": {
        "colab": {
          "base_uri": "https://localhost:8080/"
        },
        "id": "lV4tJSNCppKx",
        "outputId": "77c298b2-13cf-4e47-dc91-26e9a01579dd"
      },
      "execution_count": null,
      "outputs": [
        {
          "output_type": "stream",
          "name": "stdout",
          "text": [
            "5\n"
          ]
        }
      ]
    },
    {
      "cell_type": "markdown",
      "source": [
        "2.The return statement immediately stops the execution of the function. Any code after the return statement in the same block will not be executed.\n"
      ],
      "metadata": {
        "id": "M3lc5Kpxpw2e"
      }
    },
    {
      "cell_type": "code",
      "source": [
        "#Example:\n",
        "def test():\n",
        "    return \"Hello\"\n",
        "    print(\"This will not be executed\")\n",
        "print(test())  # Output: \"Hello\""
      ],
      "metadata": {
        "colab": {
          "base_uri": "https://localhost:8080/"
        },
        "id": "m6izlN1tp3D2",
        "outputId": "addbef61-f8f4-419b-adf4-1c6324f4897d"
      },
      "execution_count": null,
      "outputs": [
        {
          "output_type": "stream",
          "name": "stdout",
          "text": [
            "Hello\n"
          ]
        }
      ]
    },
    {
      "cell_type": "markdown",
      "source": [
        "3.Optional in Void Functions:\n",
        "\n",
        "If a function does not have a return statement, it returns None by default.\n"
      ],
      "metadata": {
        "id": "NYFNPkICp_DR"
      }
    },
    {
      "cell_type": "code",
      "source": [
        "#Example:\n",
        "def greet():\n",
        "    print(\"Hello!\")\n",
        "result = greet()  # Prints \"Hello!\"\n",
        "print(result)     # Output: None"
      ],
      "metadata": {
        "id": "4aZwAGBWqEWW"
      },
      "execution_count": null,
      "outputs": []
    },
    {
      "cell_type": "markdown",
      "source": [
        "4.Can Return Multiple Values:\n",
        "\n",
        "A return statement can return multiple values as a tuple."
      ],
      "metadata": {
        "id": "C57BGLnYqYuL"
      }
    },
    {
      "cell_type": "code",
      "source": [
        "#example:\n",
        "def divide_and_remainder(a, b):\n",
        "    return a // b, a % b\n",
        "quotient, remainder = divide_and_remainder(10, 3)\n",
        "print(quotient, remainder)  # Output: 3 1"
      ],
      "metadata": {
        "id": "bNU8hvpUqjY2"
      },
      "execution_count": null,
      "outputs": []
    },
    {
      "cell_type": "markdown",
      "source": [
        "5.Used for Function Outputs:\n",
        "\n",
        "The return statement makes functions more versatile by allowing them to provide outputs that can be stored, reused, or passed to other functions.\n",
        "\n",
        "\n",
        "\n",
        "\n",
        "\n",
        "\n"
      ],
      "metadata": {
        "id": "g-Gpz1anqt6r"
      }
    },
    {
      "cell_type": "markdown",
      "source": [
        "**5. What are iterators in Python and how do they differ from iterables?**\n",
        "\n",
        "In Python, iterators and iterables are concepts related to objects that can be looped over (e.g., in a for loop). They are closely related but serve different purposes. Here's a breakdown:\n",
        "-** 1. Iterables**\n",
        "An iterable is any object in Python that can return its elements one at a time.\n",
        "\n",
        "Examples of iterables:\n",
        "- Lists ([1, 2, 3])\n",
        "- Tuples ((4, 5, 6))\n",
        "- Strings (\"hello\")\n",
        "- Dictionaries ({'a': 1, 'b': 2})\n",
        "- Sets ({7, 8, 9})\n",
        "\n",
        "Characteristics:\n",
        "- Must implement the __iter__() method, which returns an iterator for the object.\n",
        "- Can be passed to Python's iter() function to get an iterator.\n"
      ],
      "metadata": {
        "id": "WXnO2HpbbsmW"
      }
    },
    {
      "cell_type": "code",
      "source": [
        "#example:\n",
        "numbers = [1, 2, 3]  # A list is an iterable\n",
        "iterator = iter(numbers)  # Converts the iterable into an iterator"
      ],
      "metadata": {
        "id": "Ds7cW0KPtH8c"
      },
      "execution_count": null,
      "outputs": []
    },
    {
      "cell_type": "markdown",
      "source": [
        "2.Iterators\n",
        "\n",
        "An iterator is an object that represents a stream of data. It keeps track of its current position and knows how to return the next element when requested.\n",
        "\n",
        "Characteristics:\n",
        "- Must implement the __iter__() method (returns self) and the __next__() method.\n",
        "- The __next__() method returns the next item in the sequence, and raises StopIteration when there are no more items.\n",
        "- Once an iterator is exhausted, it cannot be reused unless explicitly re-created."
      ],
      "metadata": {
        "id": "kKDE92AdtXGG"
      }
    },
    {
      "cell_type": "code",
      "source": [
        "#example:\n",
        "numbers = [1, 2, 3]  # An iterable\n",
        "iterator = iter(numbers)  # Create an iterator from the list\n",
        "\n",
        "print(next(iterator))  # Output: 1\n",
        "print(next(iterator))  # Output: 2\n",
        "print(next(iterator))  # Output: 3\n",
        "# next(iterator)  # Raises StopIteration"
      ],
      "metadata": {
        "id": "hzCDanaltzfI"
      },
      "execution_count": null,
      "outputs": []
    },
    {
      "cell_type": "code",
      "source": [
        "# Iterable\n",
        "my_list = [10, 20, 30]\n",
        "\n",
        "# Iterator from the iterable\n",
        "my_iterator = iter(my_list)\n",
        "\n",
        "# Using the iterator\n",
        "print(next(my_iterator))  # Output: 10\n",
        "print(next(my_iterator))  # Output: 20\n",
        "print(next(my_iterator))  # Output: 30\n",
        "# print(next(my_iterator))  # Raises StopIteration\n",
        "\n",
        "# The iterable can create a new iterator\n",
        "new_iterator = iter(my_list)"
      ],
      "metadata": {
        "id": "kDQnPv1suvdT"
      },
      "execution_count": null,
      "outputs": []
    },
    {
      "cell_type": "markdown",
      "source": [
        "When to Use Iterators\n",
        "\n",
        "- Iterators are particularly useful when dealing with large datasets or streams, as they do not require the entire dataset to be loaded into memory.\n",
        "- Examples include working with files, infinite sequences, or generator functions."
      ],
      "metadata": {
        "id": "T1wTC-5Su1lb"
      }
    },
    {
      "cell_type": "markdown",
      "source": [
        "**6. Explain the concept of generators in Python and how they are defined.**\n",
        "- Generators in Python are a special type of iterable that allow you to generate values one at a time, as they are needed, rather than storing all values in memory at once. They are useful for working with large datasets or infinite sequences, as they provide a memory-efficient way of producing data.\n",
        "\n",
        "Generators are a type of iterator, but they are defined differently and use a more concise syntax.\n",
        "\n",
        "Generators can be created in two primary ways:\n",
        "\n",
        "- 1. Generator Functions (using the yield keyword)\n",
        "-2. Generator Expressions (using a syntax similar to list comprehensions)\n",
        "\n",
        "1.Generator Function\n",
        "\n",
        "A generator function is defined like a regular function, but instead of return, it uses the yield keyword to produce a value. When the function is called, it doesn’t execute immediately. Instead, it returns a generator object that can be iterated over.\n",
        "\n",
        "- Key Characteristics:\n",
        "    - Uses yield to produce a value.\n",
        "The function's state (local variables, execution point) is saved between calls to next().\n",
        "  - It stops execution when yield is encountered and resumes from the same point when the next value is requested.\n",
        "\n"
      ],
      "metadata": {
        "id": "gTeV-KKhbtxM"
      }
    },
    {
      "cell_type": "code",
      "source": [
        "def count_up_to(n):\n",
        "    count = 1\n",
        "    while count <= n:\n",
        "        yield count  # Produces the current value\n",
        "        count += 1\n",
        "\n",
        "# Using the generator\n",
        "counter = count_up_to(5)\n",
        "print(next(counter))  # Output: 1\n",
        "print(next(counter))  # Output: 2\n",
        "print(next(counter))  # Output: 3"
      ],
      "metadata": {
        "id": "igaGf1pTyOij"
      },
      "execution_count": null,
      "outputs": []
    },
    {
      "cell_type": "markdown",
      "source": [
        "Explanation:\n",
        "- The count_up_to function generates numbers one at a time.\n",
        "- Each call to next() resumes execution after the last yield."
      ],
      "metadata": {
        "id": "DvmHDCC9yXGb"
      }
    },
    {
      "cell_type": "markdown",
      "source": [
        "2. Generator Expressions\n",
        "\n",
        "A generator expression is a concise way to create a generator. It uses a syntax similar to list comprehensions, but with parentheses () instead of square brackets []."
      ],
      "metadata": {
        "id": "K-CkonwOyiex"
      }
    },
    {
      "cell_type": "code",
      "source": [
        "# Generator expression\n",
        "squares = (x ** 2 for x in range(5))\n",
        "\n",
        "# Using the generator\n",
        "for square in squares:\n",
        "    print(square)\n"
      ],
      "metadata": {
        "id": "b6njlwq0ps9f"
      },
      "execution_count": null,
      "outputs": []
    },
    {
      "cell_type": "markdown",
      "source": [
        "Explanation:\n",
        "\n",
        "The squares generator produces the square of each number from 0 to 4.\n",
        "Values are generated lazily, meaning they are only computed when requested.\n"
      ],
      "metadata": {
        "id": "BQ_8oa4Yy6oy"
      }
    },
    {
      "cell_type": "markdown",
      "source": [
        "Advantages of Generators\n",
        "1.Memory Efficiency:\n",
        "\n",
        "- Generators produce items one at a time and don’t require storing the entire sequence in memory.\n",
        "Useful for processing large datasets or streams.\n",
        "\n",
        "2.Lazy Evaluation:\n",
        "\n",
        "- Values are computed only when needed, reducing computation overhead for unused values.\n",
        "\n",
        "3.Simplified Code:\n",
        "\n",
        "- Generators can replace complex manual iterator implementations, making code easier to write and read.\n",
        "\n",
        "Generator vs. Iterator\n",
        "\n",
        "Generators are a simplified way to create iterators.\n",
        "A generator automatically implements the __iter__() and __next__() methods, making it easier to define than a custom iterator class.\n",
        "\n",
        "When to Use Generators\n",
        "\n",
        "- When working with large data that won’t fit into memory (e.g., processing lines in a large file).\n",
        "- For representing infinite sequences (e.g., Fibonacci numbers).\n",
        "- When you want a clean and efficient way to produce data lazily.\n",
        "\n",
        "Example: Infinite Generator\n",
        "\n",
        "Here’s an example of an infinite generator:"
      ],
      "metadata": {
        "id": "eINCkO-SzHGu"
      }
    },
    {
      "cell_type": "code",
      "source": [
        "def infinite_sequence():\n",
        "    num = 0\n",
        "    while True:\n",
        "        yield num\n",
        "        num += 1\n",
        "\n",
        "# Using the infinite generator\n",
        "infinite_gen = infinite_sequence()\n",
        "for i in range(5):\n",
        "    print(next(infinite_gen))  # Output: 0, 1, 2, 3, 4"
      ],
      "metadata": {
        "id": "_9VzxsA40hF6"
      },
      "execution_count": null,
      "outputs": []
    },
    {
      "cell_type": "markdown",
      "source": [
        "This generator will keep producing numbers indefinitely, making it useful for tasks where the sequence length is unknown."
      ],
      "metadata": {
        "id": "40gR0WBM0w5W"
      }
    },
    {
      "cell_type": "markdown",
      "source": [
        "**7. What are the advantages of using generators over regular functions?**\n",
        "\n",
        "Generators offer several advantages over regular functions, particularly when working with large datasets or sequences that need to be computed dynamically. Here are the key advantages:\n",
        "\n",
        "1. Memory Efficiency\n",
        "- Regular Functions: Return all results at once, which can require a lot of memory if the result is large.\n",
        "- Generators: Produce items lazily, meaning they generate values one at a time and do not require the entire dataset to be stored in memory. This is especially useful when working with large or infinite data.\n",
        "\n",
        "\n"
      ],
      "metadata": {
        "id": "JJJEpyJtb6mx"
      }
    },
    {
      "cell_type": "code",
      "source": [
        "# Regular function (memory-intensive for large n)\n",
        "def get_numbers(n):\n",
        "    return [x for x in range(n)]\n",
        "\n",
        "# Generator function (memory-efficient)\n",
        "def get_numbers_gen(n):\n",
        "    for x in range(n):\n",
        "        yield x"
      ],
      "metadata": {
        "id": "j5DJ1Zbq1aSx"
      },
      "execution_count": null,
      "outputs": []
    },
    {
      "cell_type": "markdown",
      "source": [
        "When n is large, the generator will use far less memory than the regular function.\n",
        "\n",
        "2. Lazy Evaluation\n",
        "- Generators compute values on demand, so they avoid unnecessary computations.\n",
        "- If only part of the sequence is needed, a generator stops processing once the required values are generated.\n"
      ],
      "metadata": {
        "id": "3QjdCAsL1hPq"
      }
    },
    {
      "cell_type": "code",
      "source": [
        "#Example:\n",
        "def generate_squares(n):\n",
        "    for x in range(n):\n",
        "        yield x ** 2\n",
        "\n",
        "squares = generate_squares(10)\n",
        "print(next(squares))  # Only calculates the first square\n",
        "print(next(squares))  # Calculates the second square"
      ],
      "metadata": {
        "id": "3uAAGNQh2bSe"
      },
      "execution_count": null,
      "outputs": []
    },
    {
      "cell_type": "markdown",
      "source": [
        "3. Infinite Sequences\n",
        "- Generators can represent infinite sequences without causing memory issues, which regular functions cannot do because they would attempt to create an infinite data structure."
      ],
      "metadata": {
        "id": "0ckvOuAQ21-6"
      }
    },
    {
      "cell_type": "code",
      "source": [
        "#Example:\n",
        "def infinite_numbers():\n",
        "    num = 0\n",
        "    while True:\n",
        "        yield num\n",
        "        num += 1"
      ],
      "metadata": {
        "id": "b1MVE9th2882"
      },
      "execution_count": null,
      "outputs": []
    },
    {
      "cell_type": "markdown",
      "source": [
        "Using a regular function for this would result in a program crash due to memory exhaustion."
      ],
      "metadata": {
        "id": "bTEpcCtW3WkL"
      }
    },
    {
      "cell_type": "markdown",
      "source": [
        "4. Simplified Code for Iterators\n",
        "- Generators provide a clean and concise way to create iterators, eliminating the need to manually implement the __iter__() and __next__() methods."
      ],
      "metadata": {
        "id": "m-dahYcS3cTX"
      }
    },
    {
      "cell_type": "code",
      "source": [
        "# With generator\n",
        "def simple_gen():\n",
        "    yield 1\n",
        "    yield 2\n",
        "    yield 3\n"
      ],
      "metadata": {
        "id": "vj0Te2Gf3fi0"
      },
      "execution_count": null,
      "outputs": []
    },
    {
      "cell_type": "markdown",
      "source": [
        "The equivalent iterator would require a class and more boilerplate code.\n",
        "\n",
        "5. Improved Performance for I/O Operations\n",
        "- Generators can be used to process large files or streams efficiently by yielding one line or chunk at a time instead of reading the entire file into memory."
      ],
      "metadata": {
        "id": "Kw6HXvEY3kFT"
      }
    },
    {
      "cell_type": "code",
      "source": [
        "#Example:\n",
        "def read_large_file(file_path):\n",
        "    with open(file_path, 'r') as file:\n",
        "        for line in file:\n",
        "            yield line"
      ],
      "metadata": {
        "id": "MZVyfUI93vPv"
      },
      "execution_count": null,
      "outputs": []
    },
    {
      "cell_type": "markdown",
      "source": [
        "This is ideal for processing log files or large datasets line by line.\n",
        "\n",
        "6. Reduced Overhead\n",
        "  - Generators avoid creating intermediate data structures like lists or tuples, reducing overhead during computation."
      ],
      "metadata": {
        "id": "KKNygnuE3zWA"
      }
    },
    {
      "cell_type": "code",
      "source": [
        "# Regular function\n",
        "def squares_list(n):\n",
        "    return [x ** 2 for x in range(n)]\n",
        "\n",
        "# Generator function\n",
        "def squares_gen(n):\n",
        "    for x in range(n):\n",
        "        yield x ** 2\n"
      ],
      "metadata": {
        "id": "eakk-zhU3y9Y"
      },
      "execution_count": null,
      "outputs": []
    },
    {
      "cell_type": "markdown",
      "source": [
        "For large n, the generator version avoids the overhead of creating a list in memory.\n",
        "\n",
        "7. Better Compatibility with Itertools\n",
        "\n",
        "- Generators work seamlessly with Python's itertools module, allowing efficient handling of complex operations on large or infinite data streams.\n",
        "\n",
        "8. More Pythonic\n",
        "\n",
        "- Generators fit naturally into Python's design philosophy of \"simple is better than complex,\" providing an elegant way to handle iteration and lazy evaluation.\n",
        "\n",
        "When to Use Generators\n",
        "\n",
        "- When dealing with large datasets or infinite sequences.\n",
        "- When processing data streams or files line by line.\n",
        "- When you need lazy evaluation to reduce memory and computation overhead.\n",
        "- When you want cleaner, more readable code for iterators.\n",
        "\n",
        "Generators are a powerful tool that simplify and optimize many computational tasks, especially those involving iteration over large or dynamic datasets."
      ],
      "metadata": {
        "id": "wK5rAHPn4WOm"
      }
    },
    {
      "cell_type": "markdown",
      "source": [
        "**8. What is a lambda function in Python and when is it typically used?**\n",
        "- A lambda function in Python is a small, anonymous function that can have any number of arguments but only a single expression. It is defined using the lambda keyword and is often used for short, simple operations where defining a full function using def would be unnecessary.\n",
        "\n",
        "Syntax of a Lambda Function:\n",
        "\n"
      ],
      "metadata": {
        "id": "9CndW5uxb9Zv"
      }
    },
    {
      "cell_type": "code",
      "source": [
        "lambda arguments:expression"
      ],
      "metadata": {
        "id": "-3QQ806DALln"
      },
      "execution_count": null,
      "outputs": []
    },
    {
      "cell_type": "code",
      "source": [
        "#Example of a Lambda Function:\n",
        "#rgular Function\n",
        "def add(x, y):\n",
        "    return x + y\n",
        "\n",
        "# Equivalent Lambda Function\n",
        "add_lambda = lambda x, y: x + y\n",
        "print(add_lambda(3,5)) #output: 8"
      ],
      "metadata": {
        "colab": {
          "base_uri": "https://localhost:8080/"
        },
        "id": "wR1AG5MsASK2",
        "outputId": "6fa09264-a163-4a33-f0dd-97eed37bf659"
      },
      "execution_count": null,
      "outputs": [
        {
          "output_type": "stream",
          "name": "stdout",
          "text": [
            "8\n"
          ]
        }
      ]
    },
    {
      "cell_type": "markdown",
      "source": [
        "Common Use Cases for Lambda Functions:\n",
        "\n",
        "1.As an argument to functions like map(), filter(), and sorted()\n",
        "\n",
        "- These functions often require a function to be passed as an argument, making lambda functions a convenient choice."
      ],
      "metadata": {
        "id": "GA0NNM3SEUYX"
      }
    },
    {
      "cell_type": "code",
      "source": [
        "numbers = [1, 2, 3, 4, 5]\n",
        "\n",
        "# Using lambda with map to square each number\n",
        "squared = list(map(lambda x: x ** 2, numbers))\n",
        "print(squared)  # Output: [1, 4, 9, 16, 25]"
      ],
      "metadata": {
        "colab": {
          "base_uri": "https://localhost:8080/"
        },
        "id": "tJ1m70dGExGr",
        "outputId": "eececc83-08d3-4359-8927-07d0bb54a2ff"
      },
      "execution_count": null,
      "outputs": [
        {
          "output_type": "stream",
          "name": "stdout",
          "text": [
            "[1, 4, 9, 16, 25]\n"
          ]
        }
      ]
    },
    {
      "cell_type": "markdown",
      "source": [
        "2.Filtering data with filter()"
      ],
      "metadata": {
        "id": "5p_RM45rE4Fx"
      }
    },
    {
      "cell_type": "code",
      "source": [
        "# Filter even numbers\n",
        "evens = list(filter(lambda x: x % 2 == 0, numbers))\n",
        "print(evens)  # Output: [2, 4]"
      ],
      "metadata": {
        "id": "z6S_0IHVFCFr"
      },
      "execution_count": null,
      "outputs": []
    },
    {
      "cell_type": "markdown",
      "source": [
        "3.Sorting complex data using sorted()"
      ],
      "metadata": {
        "id": "s1qorgemFH7Y"
      }
    },
    {
      "cell_type": "code",
      "source": [
        "students = [('Alice', 25), ('Bob', 20), ('Charlie', 23)]\n",
        "\n",
        "# Sort by age\n",
        "sorted_students = sorted(students, key=lambda student: student[1])\n",
        "print(sorted_students)\n",
        "# Output: [('Bob', 20), ('Charlie', 23), ('Alice', 25)]"
      ],
      "metadata": {
        "id": "Htk6dlrGFOfX"
      },
      "execution_count": null,
      "outputs": []
    },
    {
      "cell_type": "markdown",
      "source": [
        "4. In list comprehensions or inline operations"
      ],
      "metadata": {
        "id": "fhpleE3xFVLP"
      }
    },
    {
      "cell_type": "code",
      "source": [
        "add = lambda a, b: a+b\n",
        "print(add(4,3)) #output: 7"
      ],
      "metadata": {
        "id": "7R98dsoqFfvh"
      },
      "execution_count": null,
      "outputs": []
    },
    {
      "cell_type": "markdown",
      "source": [
        "5. Defining simple callback funtions in GUI programming or event-driven code\n",
        "\n",
        "When to Use Lambda Functions:\n",
        "\n",
        "- When you need a short-lived, throwaway function.\n",
        "- When writing concise, readable code for simple operations.\n",
        "- When passing functions as arguments to higher-order functions.\n",
        "\n",
        "When Not to Use Lambda Functions:\n",
        "- When the function logic is complex and requires multiple statements (use def instead for better readability and maintainability).\n"
      ],
      "metadata": {
        "id": "JC8M8x4MFwH-"
      }
    },
    {
      "cell_type": "markdown",
      "source": [
        "**9. Explain the purpose and usage of the `map()` function in Python.**\n",
        "- The map() function in Python is used to apply a given function to each item in an iterable (such as a list, tuple, or string) and return a new iterable (usually a map object) with the transformed values.\n",
        "\n"
      ],
      "metadata": {
        "id": "pjbl_VLicHK8"
      }
    },
    {
      "cell_type": "code",
      "source": [
        "#Syntax of map():\n",
        "map(function, iterable, ...)"
      ],
      "metadata": {
        "id": "qtVq_YVgHe8a"
      },
      "execution_count": null,
      "outputs": []
    },
    {
      "cell_type": "markdown",
      "source": [
        "- function: The function to apply to each element in the iterable.\n",
        "- iterable: One or more iterables (e.g., lists, tuples) whose elements will be passed to the function.\n",
        "\n",
        "The function should accept as many arguments as there are iterables passed to map().\n",
        "\n"
      ],
      "metadata": {
        "id": "C5jT5yOqHscf"
      }
    },
    {
      "cell_type": "markdown",
      "source": [
        "Example of map() Usage:\n",
        "\n",
        "1.Basic Example with a Function"
      ],
      "metadata": {
        "id": "4lOxexXJH4O3"
      }
    },
    {
      "cell_type": "code",
      "source": [
        "def square(num):\n",
        "    return num ** 2\n",
        "\n",
        "numbers = [1, 2, 3, 4, 5]\n",
        "squared_numbers = map(square, numbers)\n",
        "\n",
        "print(list(squared_numbers))\n",
        "# Output: [1, 4, 9, 16, 25]"
      ],
      "metadata": {
        "colab": {
          "base_uri": "https://localhost:8080/"
        },
        "id": "1Ng1z0smIJ8d",
        "outputId": "6ac55b37-e5e1-46ca-fb4d-f8cc37ef111c"
      },
      "execution_count": null,
      "outputs": [
        {
          "output_type": "stream",
          "name": "stdout",
          "text": [
            "[1, 4, 9, 16, 25]\n"
          ]
        }
      ]
    },
    {
      "cell_type": "markdown",
      "source": [
        "2.Using map() with a Lambda function"
      ],
      "metadata": {
        "id": "ZeljJVPjIPTP"
      }
    },
    {
      "cell_type": "code",
      "source": [
        "numbers = [1, 2, 3, 4, 5]\n",
        "squared_numbers = map(lambda x: x ** 2, numbers)\n",
        "\n",
        "print(list(squared_numbers))\n",
        "# Output: [1, 4, 9, 16, 25]"
      ],
      "metadata": {
        "colab": {
          "base_uri": "https://localhost:8080/"
        },
        "id": "qdaW_rliIV75",
        "outputId": "e9bfc6c1-11f5-4140-86b6-1cfd159c29c1"
      },
      "execution_count": null,
      "outputs": [
        {
          "output_type": "stream",
          "name": "stdout",
          "text": [
            "[1, 4, 9, 16, 25]\n"
          ]
        }
      ]
    },
    {
      "cell_type": "markdown",
      "source": [
        "3.using map() with Multiple Iterables"
      ],
      "metadata": {
        "id": "wH7ghFYeIZ5O"
      }
    },
    {
      "cell_type": "code",
      "source": [
        "list1 = [1, 2, 3]\n",
        "list2 = [4, 5, 6]\n",
        "\n",
        "result = map(lambda x, y: x + y, list1, list2)\n",
        "print(list(result))\n",
        "# Output: [5, 7, 9]"
      ],
      "metadata": {
        "colab": {
          "base_uri": "https://localhost:8080/"
        },
        "id": "Oo__-6m9Ifsf",
        "outputId": "b2548072-8bb8-48c1-f0c1-ba991ef50540"
      },
      "execution_count": null,
      "outputs": [
        {
          "output_type": "stream",
          "name": "stdout",
          "text": [
            "[5, 7, 9]\n"
          ]
        }
      ]
    },
    {
      "cell_type": "markdown",
      "source": [
        "4.Converting Data Types"
      ],
      "metadata": {
        "id": "gzr-D4xuIjeZ"
      }
    },
    {
      "cell_type": "code",
      "source": [
        "strings = ['1', '2', '3', '4']\n",
        "numbers = map(int, strings)\n",
        "\n",
        "print(list(numbers))\n",
        "# Output: [1, 2, 3, 4]"
      ],
      "metadata": {
        "id": "2FXBo6OhIrI5"
      },
      "execution_count": null,
      "outputs": []
    },
    {
      "cell_type": "markdown",
      "source": [
        "5.Applying String Operations"
      ],
      "metadata": {
        "id": "S6-mOUOpIttn"
      }
    },
    {
      "cell_type": "code",
      "source": [
        "names = ['alice', 'bob', 'charlie']\n",
        "capitalized_names = map(str.capitalize, names)\n",
        "\n",
        "print(list(capitalized_names))\n",
        "# Output: ['Alice', 'Bob', 'Charlie']"
      ],
      "metadata": {
        "colab": {
          "base_uri": "https://localhost:8080/"
        },
        "id": "tY8OJAHLIyyn",
        "outputId": "9fdcbc2b-6354-4826-c35d-295e4db1abc2"
      },
      "execution_count": null,
      "outputs": [
        {
          "output_type": "stream",
          "name": "stdout",
          "text": [
            "['Alice', 'Bob', 'Charlie']\n"
          ]
        }
      ]
    },
    {
      "cell_type": "markdown",
      "source": [
        "Key Points About map():\n",
        "- It returns a map object, which is an iterator. To get the results, you need to convert it to a list or tuple using list() or tuple().\n",
        "- It is more memory-efficient than using a loop because it processes elements lazily (on demand).\n",
        "- The number of elements in the output will match the shortest iterable if multiple iterables are provided.\n",
        "\n",
        "When to Use map():\n",
        "\n",
        "- When you need to apply the same function to all elements of an iterable.\n",
        "- When performance and memory efficiency are important (compared to list comprehensions in some cases).\n",
        "- When working with functional programming paradigms.\n",
        "\n",
        "When Not to Use map():\n",
        "- When readability is compromised (sometimes list comprehensions are clearer).\n",
        "- When the transformation function is complex (a regular loop may be more understandable).\n",
        "\n",
        "\n"
      ],
      "metadata": {
        "id": "TunUpI07JqSc"
      }
    },
    {
      "cell_type": "markdown",
      "source": [
        "\n",
        "10. **What is the difference between `map()`, `reduce()`, and `filter()` functions in Python?**\n",
        "\n",
        "- In Python, the functions map(), reduce(), and filter() are commonly used for functional programming. They allow operations to be performed on iterables in a concise and efficient way. Here's a breakdown of their differences:\n",
        "\n",
        "1. map() – Transforming Elements\n",
        "  - Purpose:\n",
        "  Applies a given function to each element of an iterable and returns an iterator with the transformed results.\n",
        "\n"
      ],
      "metadata": {
        "id": "c1TKHV2EcZBT"
      }
    },
    {
      "cell_type": "code",
      "source": [
        "#Syntax:\n",
        "map(function, iterable, ...)"
      ],
      "metadata": {
        "id": "MEYlhIagK6cj"
      },
      "execution_count": null,
      "outputs": []
    },
    {
      "cell_type": "code",
      "source": [
        "#Example:\n",
        "numbers = [1, 2, 3, 4]\n",
        "squared = map(lambda x: x ** 2, numbers)\n",
        "print(list(squared))\n",
        "# Output: [1, 4, 9, 16]"
      ],
      "metadata": {
        "id": "NUx3CbCMLCux"
      },
      "execution_count": null,
      "outputs": []
    },
    {
      "cell_type": "markdown",
      "source": [
        "Key Points:\n",
        "\n",
        "- Transforms each item individually.\n",
        "- Returns an iterator (which can be converted to a list or tuple).\n",
        "- Accepts multiple iterables if the function takes multiple arguments.\n",
        "\n",
        "\n",
        "2. filter() – Selecting Elements\n",
        "- Purpose:\n",
        "Filters elements from an iterable based on a condition defined in a function. Only elements that return True are included in the output.\n",
        "\n"
      ],
      "metadata": {
        "id": "dXFYPv7QLOIj"
      }
    },
    {
      "cell_type": "code",
      "source": [
        "#Syntax:\n",
        "filter(function, iterable)"
      ],
      "metadata": {
        "id": "bblN4dYgLlr1"
      },
      "execution_count": null,
      "outputs": []
    },
    {
      "cell_type": "code",
      "source": [
        "#Example:\n",
        "numbers = [1, 2, 3, 4, 5, 6]\n",
        "evens = filter(lambda x: x % 2 == 0, numbers)\n",
        "print(list(evens))\n",
        "# Output: [2, 4, 6]"
      ],
      "metadata": {
        "id": "s4AyIHnRLqXu"
      },
      "execution_count": null,
      "outputs": []
    },
    {
      "cell_type": "markdown",
      "source": [
        "Key Points:\n",
        "- Selects elements based on a condition.\n",
        "- Returns an iterator with elements that satisfy the condition.\n",
        "- If the function returns False, the element is excluded.\n",
        "\n",
        "3. reduce() – Aggregating Elements\n",
        "Purpose:\n",
        "Applies a function cumulatively to the elements of an iterable, reducing them to a single accumulated value.\n"
      ],
      "metadata": {
        "id": "wvv-MSKLLyDf"
      }
    },
    {
      "cell_type": "code",
      "source": [
        "#syntax:\n",
        "from functools import reduce\n",
        "reduce(function, iterable [initializer])"
      ],
      "metadata": {
        "id": "8vZjbL12MDHZ"
      },
      "execution_count": null,
      "outputs": []
    },
    {
      "cell_type": "code",
      "source": [
        "#Example:\n",
        "from functools import reduce\n",
        "\n",
        "numbers = [1, 2, 3, 4]\n",
        "sum_of_numbers = reduce(lambda x, y: x + y, numbers)\n",
        "print(sum_of_numbers)\n",
        "# Output: 10 (1 + 2 + 3 + 4)"
      ],
      "metadata": {
        "id": "W1jkGVZlMHbH"
      },
      "execution_count": null,
      "outputs": []
    },
    {
      "cell_type": "markdown",
      "source": [
        "Key Points:\n",
        "- Performs cumulative computation (e.g., sum, product, etc.).\n",
        "- Reduces iterable to a single value.\n",
        "- Requires functools.reduce to be imported in Python 3.\n",
        "\n",
        "When to Use Each:\n",
        "- Use map() when you need to transform elements.\n",
        "- Use filter() when you need to select elements based on a condition.\n",
        "- Use reduce() when you need to aggregate elements into a single value.\n",
        "\n"
      ],
      "metadata": {
        "id": "i10vjsyvMQ4t"
      }
    },
    {
      "cell_type": "markdown",
      "source": [
        "11. Using pen & Paper write the internal mechanism for sum operation using  reduce function on this given\n",
        "list:[47,11,42,13];  \n",
        "\n",
        "Step 1:\n",
        "We want to sum up these numbers using the reduce() function.\n",
        "\n",
        "Step 2:\n",
        "\n",
        "numbers = [47, 11, 42, 13]\n",
        "result = reduce(lambda x, y: x + y, numbers)\n",
        "print(result)\n",
        "Step 3: Internal Mechanism (Step-by-Step Execution)\n",
        "Initial Step:\n",
        "The reduce() function works by taking two elements at a time from the iterable and applying the function to them. The result of each operation becomes the first argument for the next operation.\n",
        "\n",
        "The process can be visualized as follows:\n",
        "\n",
        "Iteration 1:\n",
        "Take first two elements: 47 and 11\n",
        "Perform the operation:\n",
        "47\n",
        "+\n",
        "11\n",
        "=\n",
        "58\n",
        "47+11=58\n",
        "Result after first iteration: 58\n",
        "Iteration 2:\n",
        "Take the result 58 and the next element 42\n",
        "Perform the operation:\n",
        "58\n",
        "+\n",
        "42\n",
        "=\n",
        "100\n",
        "58+42=100\n",
        "Result after second iteration: 100\n",
        "Iteration 3:\n",
        "Take the result 100 and the next element 13\n",
        "Perform the operation:\n",
        "100\n",
        "+\n",
        "13\n",
        "=\n",
        "113\n",
        "100+13=113\n",
        "Final result: 113\n",
        "Step 4: Final Outcome\n",
        "The sum of [47, 11, 42, 13] using reduce() is 113, and the calculation proceeds like this:\n",
        "\n",
        "rust\n",
        "Copy\n",
        "Edit\n",
        "(47 + 11) -> 58\n",
        "(58 + 42) -> 100\n",
        "(100 + 13) -> 113\n",
        "Step 5: General Formula Representation\n",
        "If we have a list [a, b, c, d], the reduce function will execute the following operations:\n",
        "\n",
        "(\n",
        "(\n",
        "(\n",
        "𝑎\n",
        "+\n",
        "𝑏\n",
        ")\n",
        "+\n",
        "𝑐\n",
        ")\n",
        "+\n",
        "𝑑\n",
        ")\n",
        "(((a+b)+c)+d)\n",
        "For our specific list:\n",
        "\n",
        "(\n",
        "(\n",
        "(\n",
        "47\n",
        "+\n",
        "11\n",
        ")\n",
        "+\n",
        "42\n",
        ")\n",
        "+\n",
        "13\n",
        ")\n",
        "=\n",
        "113\n",
        "(((47+11)+42)+13)=113\n"
      ],
      "metadata": {
        "id": "huaOupnkccv6"
      }
    },
    {
      "cell_type": "markdown",
      "source": [
        "# Practical Que-Ans"
      ],
      "metadata": {
        "id": "KjDnBzWrUxrf"
      }
    },
    {
      "cell_type": "markdown",
      "source": [
        "1. Write a Python function that takes a list of numbers as input and returns the sum of all even numbers in\n",
        "the list."
      ],
      "metadata": {
        "id": "vfQwoaPbeZ_U"
      }
    },
    {
      "cell_type": "code",
      "source": [
        "def sum_of_even_numbers(numbers):\n",
        "    \"\"\"\n",
        "    Returns the sum of all even numbers in the given list.\n",
        "\n",
        "    Args:\n",
        "        numbers (list): A list of integers.\n",
        "\n",
        "    Returns:\n",
        "        int: The sum of all even numbers in the list.\n",
        "    \"\"\"\n",
        "    return sum(num for num in numbers if num % 2 == 0)\n",
        "# Example usage\n",
        "numbers_list = [1, 2, 3, 4, 5, 6]\n",
        "print(sum_of_even_numbers(numbers_list))  # Output: 12\n"
      ],
      "metadata": {
        "id": "kEOMppuM0KaB"
      },
      "execution_count": null,
      "outputs": []
    },
    {
      "cell_type": "markdown",
      "source": [
        "2. Create a Python function that accepts a string and returns the reverse of that string."
      ],
      "metadata": {
        "id": "KGZUrNln3Rqo"
      }
    },
    {
      "cell_type": "code",
      "source": [
        "def reverse_string(s):\n",
        "    \"\"\"\n",
        "    Returns the reverse of the given string.\n",
        "\n",
        "    Args:\n",
        "        s (str): The input string.\n",
        "\n",
        "    Returns:\n",
        "        str: The reversed string.\n",
        "    \"\"\"\n",
        "    return s[::-1]\n",
        "\n",
        "# Example usage\n",
        "input_string = \"hello\"\n",
        "print(reverse_string(input_string))  # Output: \"olleh\""
      ],
      "metadata": {
        "id": "VZ8QeJYd3Tvz"
      },
      "execution_count": null,
      "outputs": []
    },
    {
      "cell_type": "markdown",
      "source": [
        "3. Implement a Python function that takes a list of integers and returns a new list containing the squares of\n",
        "each number."
      ],
      "metadata": {
        "id": "H1yP4caV3fYB"
      }
    },
    {
      "cell_type": "code",
      "source": [
        "def square_numbers(numbers):\n",
        "    \"\"\"\n",
        "    Returns a new list containing the squares of each number in the input list.\n",
        "\n",
        "    Args:\n",
        "        numbers (list): A list of integers.\n",
        "\n",
        "    Returns:\n",
        "        list: A list containing the squares of the input integers.\n",
        "    \"\"\"\n",
        "    return [num ** 2 for num in numbers]\n",
        "\n",
        "# Example usage\n",
        "numbers_list = [1, 2, 3, 4, 5]\n",
        "print(square_numbers(numbers_list))  # Output: [1, 4, 9, 16, 25]"
      ],
      "metadata": {
        "id": "txMeBWzN3ktI"
      },
      "execution_count": null,
      "outputs": []
    },
    {
      "cell_type": "markdown",
      "source": [
        "4. Write a Python function that checks if a given number is prime or not from 1 to 200."
      ],
      "metadata": {
        "id": "dV3lRudd4A1e"
      }
    },
    {
      "cell_type": "code",
      "source": [
        "def is_prime(n):\n",
        "    \"\"\"\n",
        "    Checks if a number is prime.\n",
        "\n",
        "    Args:\n",
        "        n (int): The number to check (between 1 and 200).\n",
        "\n",
        "    Returns:\n",
        "        bool: True if the number is prime, False otherwise.\n",
        "    \"\"\"\n",
        "    if n < 2 or n > 200:\n",
        "        return False  # Out of valid range\n",
        "\n",
        "    for i in range(2, int(n ** 0.5) + 1):\n",
        "        if n % i == 0:\n",
        "            return False\n",
        "    return True\n",
        "\n",
        "# Example usage\n",
        "print(is_prime(5))    # Output: True\n",
        "print(is_prime(10))   # Output: False\n",
        "print(is_prime(199))  # Output: True\n",
        "print(is_prime(201))  # Output: False (out of range)\n"
      ],
      "metadata": {
        "id": "JgdYDFiK4TIg"
      },
      "execution_count": null,
      "outputs": []
    },
    {
      "cell_type": "markdown",
      "source": [
        "5. Create an iterator class in Python that generates the Fibonacci sequence up to a specified number of\n",
        "terms."
      ],
      "metadata": {
        "id": "1q4t84kk4aUv"
      }
    },
    {
      "cell_type": "code",
      "source": [
        "class FibonacciIterator:\n",
        "    \"\"\"\n",
        "    Iterator that generates the Fibonacci sequence up to a specified number of terms.\n",
        "    \"\"\"\n",
        "\n",
        "    def __init__(self, n_terms):\n",
        "        \"\"\"\n",
        "        Initializes the iterator with the number of terms.\n",
        "\n",
        "        Args:\n",
        "            n_terms (int): The number of Fibonacci terms to generate.\n",
        "        \"\"\"\n",
        "        self.n_terms = n_terms\n",
        "        self.count = 0\n",
        "        self.a, self.b = 0, 1\n",
        "\n",
        "    def __iter__(self):\n",
        "        return self\n",
        "\n",
        "    def __next__(self):\n",
        "        if self.count >= self.n_terms:\n",
        "            raise StopIteration\n",
        "        if self.count == 0:\n",
        "            self.count += 1\n",
        "            return self.a\n",
        "        elif self.count == 1:\n",
        "            self.count += 1\n",
        "            return self.b\n",
        "\n",
        "        self.a, self.b = self.b, self.a + self.b\n",
        "        self.count += 1\n",
        "        return self.a\n",
        "\n",
        "# Example usage\n",
        "fib = FibonacciIterator(10)\n",
        "for num in fib:\n",
        "    print(num, end=\" \")  # Output: 0 1 1 2 3 5 8 13 21 34\n"
      ],
      "metadata": {
        "id": "783ajzo14j8j"
      },
      "execution_count": null,
      "outputs": []
    },
    {
      "cell_type": "markdown",
      "source": [
        "6. Write a generator function in Python that yields the powers of 2 up to a given exponent."
      ],
      "metadata": {
        "id": "BQxdY5Zs4rqt"
      }
    },
    {
      "cell_type": "code",
      "source": [
        "def powers_of_two(max_exponent):\n",
        "    \"\"\"\n",
        "    Yields the powers of 2 up to the given exponent.\n",
        "\n",
        "    Args:\n",
        "        max_exponent (int): The highest exponent to compute 2^exponent.\n",
        "    \"\"\"\n",
        "    for exponent in range(max_exponent + 1):\n",
        "        yield 2 ** exponent\n",
        "\n",
        "# Example usage\n",
        "for power in powers_of_two(5):\n",
        "    print(power, end=\" \")  # Output: 1 2 4 8 16 32"
      ],
      "metadata": {
        "id": "5kDTdtVz4zGR"
      },
      "execution_count": null,
      "outputs": []
    },
    {
      "cell_type": "markdown",
      "source": [
        "7. Implement a generator function that reads a file line by line and yields each line as a string."
      ],
      "metadata": {
        "id": "03Uoptt85Bed"
      }
    },
    {
      "cell_type": "code",
      "source": [
        "def read_file_line_by_line(file_path):\n",
        "    \"\"\"\n",
        "    Reads a file line by line and yields each line as a string.\n",
        "\n",
        "    Args:\n",
        "        file_path (str): The path to the file.\n",
        "\n",
        "    Yields:\n",
        "        str: A line from the file.\n",
        "    \"\"\"\n",
        "    try:\n",
        "        with open(file_path, 'r') as file:\n",
        "            for line in file:\n",
        "                yield line.strip()  # Remove trailing newline characters\n",
        "    except FileNotFoundError:\n",
        "        print(f\"Error: The file '{file_path}' was not found.\")\n",
        "\n",
        "# Example usage\n",
        "# Assuming there's a file named 'example.txt' in the same directory\n",
        "for line in read_file_line_by_line('example.txt'):\n",
        "    print(line)\n"
      ],
      "metadata": {
        "id": "ZoZVwycm5C6N"
      },
      "execution_count": null,
      "outputs": []
    },
    {
      "cell_type": "markdown",
      "source": [
        "8. Use a lambda function in Python to sort a list of tuples based on the second element of each tuple."
      ],
      "metadata": {
        "id": "9QEeZI5Q5URw"
      }
    },
    {
      "cell_type": "code",
      "source": [
        "# Sample list of tuples\n",
        "tuples_list = [(1, 3), (4, 1), (2, 5), (3, 2)]\n",
        "\n",
        "# Sorting based on the second element of each tuple\n",
        "sorted_list = sorted(tuples_list, key=lambda x: x[1])\n",
        "\n",
        "# Output the sorted list\n",
        "print(sorted_list)  # Output: [(4, 1), (3, 2), (1, 3), (2, 5)]"
      ],
      "metadata": {
        "id": "V6KZkPte5WUu"
      },
      "execution_count": null,
      "outputs": []
    },
    {
      "cell_type": "markdown",
      "source": [
        "9. Write a Python program that uses `map()` to convert a list of temperatures from Celsius to Fahrenheit."
      ],
      "metadata": {
        "id": "XGF3C8lQ5hL6"
      }
    },
    {
      "cell_type": "code",
      "source": [
        "# Function to convert Celsius to Fahrenheit\n",
        "def celsius_to_fahrenheit(celsius):\n",
        "    return (celsius * 9/5) + 32\n",
        "\n",
        "# List of temperatures in Celsius\n",
        "celsius_temperatures = [0, 20, 37, 100]\n",
        "\n",
        "# Convert to Fahrenheit using map()\n",
        "fahrenheit_temperatures = list(map(celsius_to_fahrenheit, celsius_temperatures))\n",
        "\n",
        "# Output the converted temperatures\n",
        "print(fahrenheit_temperatures)  # Output: [32.0, 68.0, 98.6, 212.0]\n"
      ],
      "metadata": {
        "id": "VgC1ohP85lvX"
      },
      "execution_count": null,
      "outputs": []
    },
    {
      "cell_type": "markdown",
      "source": [
        "10. Create a Python program that uses `filter()` to remove all the vowels from a given string."
      ],
      "metadata": {
        "id": "pQijMnDY5qjP"
      }
    },
    {
      "cell_type": "code",
      "source": [
        "def remove_vowels(input_string):\n",
        "    \"\"\"\n",
        "    Removes all vowels from the given string.\n",
        "\n",
        "    Args:\n",
        "        input_string (str): The input string.\n",
        "\n",
        "    Returns:\n",
        "        str: The string without vowels.\n",
        "    \"\"\"\n",
        "    vowels = \"aeiouAEIOU\"\n",
        "    return ''.join(filter(lambda char: char not in vowels, input_string))\n",
        "\n",
        "# Example usage\n",
        "input_str = \"Hello, World!\"\n",
        "result = remove_vowels(input_str)\n",
        "print(result)  # Output: \"Hll, Wrld!\"\n"
      ],
      "metadata": {
        "id": "DdbyUqRb5ryn"
      },
      "execution_count": null,
      "outputs": []
    }
  ]
}